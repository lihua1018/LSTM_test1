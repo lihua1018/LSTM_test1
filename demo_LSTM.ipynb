{
 "cells": [
  {
   "cell_type": "code",
   "execution_count": 2,
   "metadata": {
    "executionInfo": {
     "elapsed": 6045,
     "status": "ok",
     "timestamp": 1725803761616,
     "user": {
      "displayName": "imigpt",
      "userId": "04560246295033092756"
     },
     "user_tz": -480
    },
    "id": "r_Qyo9OtMyzG"
   },
   "outputs": [],
   "source": [
    "import numpy as np\n",
    "import pandas as pd\n",
    "import matplotlib.pyplot as plt\n",
    "from tensorflow.keras.optimizers import Adam\n",
    "from tensorflow.keras.models import Sequential\n",
    "from tensorflow.keras.layers import Dense,BatchNormalization\n",
    "from tensorflow.keras.layers import LSTM\n",
    "from sklearn.preprocessing import LabelEncoder\n",
    "from tensorflow.keras.utils import to_categorical\n",
    "import tensorflow as tf\n",
    "import logging\n",
    "tf.get_logger().setLevel(logging.ERROR)"
   ]
  },
  {
   "cell_type": "code",
   "execution_count": 3,
   "metadata": {},
   "outputs": [
    {
     "name": "stdout",
     "output_type": "stream",
     "text": [
      "         date  precipitation  temp_max  temp_min  wind  weather\n",
      "0  2012-01-01            0.0      12.8       5.0   4.7  drizzle\n",
      "1  2012-01-02           10.9      10.6       2.8   4.5     rain\n",
      "2  2012-01-03            0.8      11.7       7.2   2.3     rain\n",
      "3  2012-01-04           20.3      12.2       5.6   4.7     rain\n",
      "4  2012-01-05            1.3       8.9       2.8   6.1     rain\n",
      "<class 'pandas.core.frame.DataFrame'>\n",
      "RangeIndex: 1461 entries, 0 to 1460\n",
      "Data columns (total 6 columns):\n",
      " #   Column         Non-Null Count  Dtype  \n",
      "---  ------         --------------  -----  \n",
      " 0   date           1461 non-null   object \n",
      " 1   precipitation  1461 non-null   float64\n",
      " 2   temp_max       1461 non-null   float64\n",
      " 3   temp_min       1461 non-null   float64\n",
      " 4   wind           1461 non-null   float64\n",
      " 5   weather        1461 non-null   object \n",
      "dtypes: float64(4), object(2)\n",
      "memory usage: 68.6+ KB\n",
      "None\n",
      "date             0\n",
      "precipitation    0\n",
      "temp_max         0\n",
      "temp_min         0\n",
      "wind             0\n",
      "weather          0\n",
      "dtype: int64\n",
      "總數據長度: 1461\n",
      "訓練集長度: 1168\n",
      "測試集長度: 293\n",
      "Train data shape: (1168, 6)\n",
      "Test data shape: (293, 6)\n",
      "Train features shape: (1168, 5)\n",
      "Train labels shape: (1168,)\n",
      "Test features shape: (293, 5)\n",
      "Test labels shape: (293,)\n"
     ]
    }
   ],
   "source": [
    "# 讀取數據\n",
    "data = pd.read_csv('seattle-weather.csv')\n",
    "\n",
    "# 檢查數據結構\n",
    "print(data.head())\n",
    "print(data.info())\n",
    "print(data.isnull().sum())\n",
    "\n",
    "# 定義訓練集和測試集的比例\n",
    "TRAIN_TEST_SPLIT = 0.8\n",
    "\n",
    "# 計算拆分點\n",
    "date_len = len(data)\n",
    "split = int(date_len * TRAIN_TEST_SPLIT)\n",
    "\n",
    "# 按比例切分數據\n",
    "train_data = data.iloc[:split]  # 前 80% 為訓練集\n",
    "test_data = data.iloc[split:]   # 後 20% 為測試集\n",
    "\n",
    "# 驗證切分結果\n",
    "print(f\"總數據長度: {date_len}\")\n",
    "print(f\"訓練集長度: {len(train_data)}\")\n",
    "print(f\"測試集長度: {len(test_data)}\")\n",
    "\n",
    "# 驗證切分後的形狀\n",
    "print(f\"Train data shape: {train_data.shape}\")\n",
    "print(f\"Test data shape: {test_data.shape}\")\n",
    "\n",
    "# 如果有目標列，分離特徵與目標\n",
    "if 'weather' in data.columns:\n",
    "    train_features = train_data.drop('weather', axis=1)\n",
    "    train_labels = train_data['weather']\n",
    "    test_features = test_data.drop('weather', axis=1)\n",
    "    test_labels = test_data['weather']\n",
    "\n",
    "    print(f\"Train features shape: {train_features.shape}\")\n",
    "    print(f\"Train labels shape: {train_labels.shape}\")\n",
    "    print(f\"Test features shape: {test_features.shape}\")\n",
    "    print(f\"Test labels shape: {test_labels.shape}\")"
   ]
  },
  {
   "cell_type": "code",
   "execution_count": 4,
   "metadata": {},
   "outputs": [
    {
     "name": "stdout",
     "output_type": "stream",
     "text": [
      "Weather categories: ['drizzle' 'fog' 'rain' 'snow' 'sun']\n",
      "Train data shape: (1456, 5, 4)\n",
      "Targets shape: (1456,)\n",
      "Sample targets (encoded): [2 2 4 2 2]\n",
      "Targets (one-hot):\n",
      "[[0. 0. 1. 0. 0.]\n",
      " [0. 0. 1. 0. 0.]\n",
      " [0. 0. 0. 0. 1.]\n",
      " [0. 0. 1. 0. 0.]\n",
      " [0. 0. 1. 0. 0.]]\n"
     ]
    }
   ],
   "source": [
    "# 提取特徵和目標\n",
    "weather_data = data[['precipitation', 'temp_max', 'temp_min', 'wind']].values\n",
    "weather_categories = data['weather'].values\n",
    "\n",
    "# 編碼天氣類別\n",
    "label_encoder = LabelEncoder()\n",
    "weather_labels = label_encoder.fit_transform(weather_categories)\n",
    "print(f\"Weather categories: {label_encoder.classes_}\")\n",
    "\n",
    "# 設定窗口參數\n",
    "WINDOW_LENGTH = 5\n",
    "WINDOW_STEP = 1\n",
    "\n",
    "# 檢查窗口長度是否合理\n",
    "if WINDOW_LENGTH >= len(weather_data):\n",
    "    raise ValueError(\"WINDOW_LENGTH must be smaller than the data length.\")\n",
    "\n",
    "# 建立訓練資料與目標\n",
    "train_data, test_data = [], []\n",
    "for i in range(0, len(weather_data) - WINDOW_LENGTH, WINDOW_STEP):\n",
    "    train_data.append(weather_data[i: i + WINDOW_LENGTH])\n",
    "    test_data.append(weather_labels[i + WINDOW_LENGTH])\n",
    "\n",
    "# 轉換為 NumPy 陣列\n",
    "train_data = np.array(train_data)\n",
    "test_data = np.array(test_data)\n",
    "\n",
    "# 打印檢查\n",
    "print(f\"Train data shape: {train_data.shape}\")  # (樣本數, 窗口長度, 特徵數)\n",
    "print(f\"Targets shape: {test_data.shape}\")       # (樣本數,)\n",
    "print(f\"Sample targets (encoded): {test_data[:5]}\")\n",
    "\n",
    "# One-Hot 編碼\n",
    "test_data_one_hot = to_categorical(test_data)\n",
    "print(f\"Targets (one-hot):\\n{test_data_one_hot[:5]}\")\n"
   ]
  },
  {
   "cell_type": "code",
   "execution_count": 5,
   "metadata": {
    "colab": {
     "base_uri": "https://localhost:8080/",
     "height": 362
    },
    "executionInfo": {
     "elapsed": 493950,
     "status": "ok",
     "timestamp": 1725804261126,
     "user": {
      "displayName": "imigpt",
      "userId": "04560246295033092756"
     },
     "user_tz": -480
    },
    "id": "BOIhCslbMyzK",
    "outputId": "9ebdacf1-8914-46fb-958b-4afae9314d5e"
   },
   "outputs": [
    {
     "name": "stderr",
     "output_type": "stream",
     "text": [
      "/opt/anaconda3/envs/ENV01/lib/python3.12/site-packages/keras/src/layers/rnn/rnn.py:204: UserWarning: Do not pass an `input_shape`/`input_dim` argument to a layer. When using Sequential models, prefer using an `Input(shape)` object as the first layer in the model instead.\n",
      "  super().__init__(**kwargs)\n"
     ]
    },
    {
     "data": {
      "text/html": [
       "<pre style=\"white-space:pre;overflow-x:auto;line-height:normal;font-family:Menlo,'DejaVu Sans Mono',consolas,'Courier New',monospace\"><span style=\"font-weight: bold\">Model: \"sequential\"</span>\n",
       "</pre>\n"
      ],
      "text/plain": [
       "\u001b[1mModel: \"sequential\"\u001b[0m\n"
      ]
     },
     "metadata": {},
     "output_type": "display_data"
    },
    {
     "data": {
      "text/html": [
       "<pre style=\"white-space:pre;overflow-x:auto;line-height:normal;font-family:Menlo,'DejaVu Sans Mono',consolas,'Courier New',monospace\">┏━━━━━━━━━━━━━━━━━━━━━━━━━━━━━━━━━┳━━━━━━━━━━━━━━━━━━━━━━━━┳━━━━━━━━━━━━━━━┓\n",
       "┃<span style=\"font-weight: bold\"> Layer (type)                    </span>┃<span style=\"font-weight: bold\"> Output Shape           </span>┃<span style=\"font-weight: bold\">       Param # </span>┃\n",
       "┡━━━━━━━━━━━━━━━━━━━━━━━━━━━━━━━━━╇━━━━━━━━━━━━━━━━━━━━━━━━╇━━━━━━━━━━━━━━━┩\n",
       "│ lstm (<span style=\"color: #0087ff; text-decoration-color: #0087ff\">LSTM</span>)                     │ (<span style=\"color: #00d7ff; text-decoration-color: #00d7ff\">None</span>, <span style=\"color: #00af00; text-decoration-color: #00af00\">5</span>, <span style=\"color: #00af00; text-decoration-color: #00af00\">128</span>)         │        <span style=\"color: #00af00; text-decoration-color: #00af00\">68,096</span> │\n",
       "├─────────────────────────────────┼────────────────────────┼───────────────┤\n",
       "│ batch_normalization             │ (<span style=\"color: #00d7ff; text-decoration-color: #00d7ff\">None</span>, <span style=\"color: #00af00; text-decoration-color: #00af00\">5</span>, <span style=\"color: #00af00; text-decoration-color: #00af00\">128</span>)         │           <span style=\"color: #00af00; text-decoration-color: #00af00\">512</span> │\n",
       "│ (<span style=\"color: #0087ff; text-decoration-color: #0087ff\">BatchNormalization</span>)            │                        │               │\n",
       "├─────────────────────────────────┼────────────────────────┼───────────────┤\n",
       "│ lstm_1 (<span style=\"color: #0087ff; text-decoration-color: #0087ff\">LSTM</span>)                   │ (<span style=\"color: #00d7ff; text-decoration-color: #00d7ff\">None</span>, <span style=\"color: #00af00; text-decoration-color: #00af00\">128</span>)            │       <span style=\"color: #00af00; text-decoration-color: #00af00\">131,584</span> │\n",
       "├─────────────────────────────────┼────────────────────────┼───────────────┤\n",
       "│ batch_normalization_1           │ (<span style=\"color: #00d7ff; text-decoration-color: #00d7ff\">None</span>, <span style=\"color: #00af00; text-decoration-color: #00af00\">128</span>)            │           <span style=\"color: #00af00; text-decoration-color: #00af00\">512</span> │\n",
       "│ (<span style=\"color: #0087ff; text-decoration-color: #0087ff\">BatchNormalization</span>)            │                        │               │\n",
       "├─────────────────────────────────┼────────────────────────┼───────────────┤\n",
       "│ dense (<span style=\"color: #0087ff; text-decoration-color: #0087ff\">Dense</span>)                   │ (<span style=\"color: #00d7ff; text-decoration-color: #00d7ff\">None</span>, <span style=\"color: #00af00; text-decoration-color: #00af00\">1</span>)              │           <span style=\"color: #00af00; text-decoration-color: #00af00\">129</span> │\n",
       "└─────────────────────────────────┴────────────────────────┴───────────────┘\n",
       "</pre>\n"
      ],
      "text/plain": [
       "┏━━━━━━━━━━━━━━━━━━━━━━━━━━━━━━━━━┳━━━━━━━━━━━━━━━━━━━━━━━━┳━━━━━━━━━━━━━━━┓\n",
       "┃\u001b[1m \u001b[0m\u001b[1mLayer (type)                   \u001b[0m\u001b[1m \u001b[0m┃\u001b[1m \u001b[0m\u001b[1mOutput Shape          \u001b[0m\u001b[1m \u001b[0m┃\u001b[1m \u001b[0m\u001b[1m      Param #\u001b[0m\u001b[1m \u001b[0m┃\n",
       "┡━━━━━━━━━━━━━━━━━━━━━━━━━━━━━━━━━╇━━━━━━━━━━━━━━━━━━━━━━━━╇━━━━━━━━━━━━━━━┩\n",
       "│ lstm (\u001b[38;5;33mLSTM\u001b[0m)                     │ (\u001b[38;5;45mNone\u001b[0m, \u001b[38;5;34m5\u001b[0m, \u001b[38;5;34m128\u001b[0m)         │        \u001b[38;5;34m68,096\u001b[0m │\n",
       "├─────────────────────────────────┼────────────────────────┼───────────────┤\n",
       "│ batch_normalization             │ (\u001b[38;5;45mNone\u001b[0m, \u001b[38;5;34m5\u001b[0m, \u001b[38;5;34m128\u001b[0m)         │           \u001b[38;5;34m512\u001b[0m │\n",
       "│ (\u001b[38;5;33mBatchNormalization\u001b[0m)            │                        │               │\n",
       "├─────────────────────────────────┼────────────────────────┼───────────────┤\n",
       "│ lstm_1 (\u001b[38;5;33mLSTM\u001b[0m)                   │ (\u001b[38;5;45mNone\u001b[0m, \u001b[38;5;34m128\u001b[0m)            │       \u001b[38;5;34m131,584\u001b[0m │\n",
       "├─────────────────────────────────┼────────────────────────┼───────────────┤\n",
       "│ batch_normalization_1           │ (\u001b[38;5;45mNone\u001b[0m, \u001b[38;5;34m128\u001b[0m)            │           \u001b[38;5;34m512\u001b[0m │\n",
       "│ (\u001b[38;5;33mBatchNormalization\u001b[0m)            │                        │               │\n",
       "├─────────────────────────────────┼────────────────────────┼───────────────┤\n",
       "│ dense (\u001b[38;5;33mDense\u001b[0m)                   │ (\u001b[38;5;45mNone\u001b[0m, \u001b[38;5;34m1\u001b[0m)              │           \u001b[38;5;34m129\u001b[0m │\n",
       "└─────────────────────────────────┴────────────────────────┴───────────────┘\n"
      ]
     },
     "metadata": {},
     "output_type": "display_data"
    },
    {
     "data": {
      "text/html": [
       "<pre style=\"white-space:pre;overflow-x:auto;line-height:normal;font-family:Menlo,'DejaVu Sans Mono',consolas,'Courier New',monospace\"><span style=\"font-weight: bold\"> Total params: </span><span style=\"color: #00af00; text-decoration-color: #00af00\">200,833</span> (784.50 KB)\n",
       "</pre>\n"
      ],
      "text/plain": [
       "\u001b[1m Total params: \u001b[0m\u001b[38;5;34m200,833\u001b[0m (784.50 KB)\n"
      ]
     },
     "metadata": {},
     "output_type": "display_data"
    },
    {
     "data": {
      "text/html": [
       "<pre style=\"white-space:pre;overflow-x:auto;line-height:normal;font-family:Menlo,'DejaVu Sans Mono',consolas,'Courier New',monospace\"><span style=\"font-weight: bold\"> Trainable params: </span><span style=\"color: #00af00; text-decoration-color: #00af00\">200,321</span> (782.50 KB)\n",
       "</pre>\n"
      ],
      "text/plain": [
       "\u001b[1m Trainable params: \u001b[0m\u001b[38;5;34m200,321\u001b[0m (782.50 KB)\n"
      ]
     },
     "metadata": {},
     "output_type": "display_data"
    },
    {
     "data": {
      "text/html": [
       "<pre style=\"white-space:pre;overflow-x:auto;line-height:normal;font-family:Menlo,'DejaVu Sans Mono',consolas,'Courier New',monospace\"><span style=\"font-weight: bold\"> Non-trainable params: </span><span style=\"color: #00af00; text-decoration-color: #00af00\">512</span> (2.00 KB)\n",
       "</pre>\n"
      ],
      "text/plain": [
       "\u001b[1m Non-trainable params: \u001b[0m\u001b[38;5;34m512\u001b[0m (2.00 KB)\n"
      ]
     },
     "metadata": {},
     "output_type": "display_data"
    },
    {
     "name": "stdout",
     "output_type": "stream",
     "text": [
      "Epoch 1/100\n",
      "41/41 - 2s - 49ms/step - loss: 9.3102 - val_loss: 6.7108\n",
      "Epoch 2/100\n",
      "41/41 - 0s - 6ms/step - loss: 7.3731 - val_loss: 4.7840\n",
      "Epoch 3/100\n",
      "41/41 - 0s - 6ms/step - loss: 5.7698 - val_loss: 3.6350\n",
      "Epoch 4/100\n",
      "41/41 - 0s - 6ms/step - loss: 4.6308 - val_loss: 3.2864\n",
      "Epoch 5/100\n",
      "41/41 - 0s - 6ms/step - loss: 3.6551 - val_loss: 2.2556\n",
      "Epoch 6/100\n",
      "41/41 - 0s - 6ms/step - loss: 2.7396 - val_loss: 1.8295\n",
      "Epoch 7/100\n",
      "41/41 - 0s - 6ms/step - loss: 2.1911 - val_loss: 1.6215\n",
      "Epoch 8/100\n",
      "41/41 - 0s - 6ms/step - loss: 1.7905 - val_loss: 1.6229\n",
      "Epoch 9/100\n",
      "41/41 - 0s - 6ms/step - loss: 1.7968 - val_loss: 1.3450\n",
      "Epoch 10/100\n",
      "41/41 - 0s - 6ms/step - loss: 1.7924 - val_loss: 1.3374\n",
      "Epoch 11/100\n",
      "41/41 - 0s - 6ms/step - loss: 1.6581 - val_loss: 1.3748\n",
      "Epoch 12/100\n",
      "41/41 - 0s - 6ms/step - loss: 1.6291 - val_loss: 1.3190\n",
      "Epoch 13/100\n",
      "41/41 - 0s - 6ms/step - loss: 1.6352 - val_loss: 1.3049\n",
      "Epoch 14/100\n",
      "41/41 - 0s - 6ms/step - loss: 1.6903 - val_loss: 1.3161\n",
      "Epoch 15/100\n",
      "41/41 - 0s - 6ms/step - loss: 1.5034 - val_loss: 1.5090\n",
      "Epoch 16/100\n",
      "41/41 - 0s - 6ms/step - loss: 1.4640 - val_loss: 1.3532\n",
      "Epoch 17/100\n",
      "41/41 - 0s - 6ms/step - loss: 1.4775 - val_loss: 1.3268\n",
      "Epoch 18/100\n",
      "41/41 - 0s - 6ms/step - loss: 1.5349 - val_loss: 1.3615\n",
      "Epoch 19/100\n",
      "41/41 - 0s - 7ms/step - loss: 1.5093 - val_loss: 1.3231\n",
      "Epoch 20/100\n",
      "41/41 - 0s - 7ms/step - loss: 1.5128 - val_loss: 1.3631\n",
      "Epoch 21/100\n",
      "41/41 - 0s - 6ms/step - loss: 1.4143 - val_loss: 1.3230\n",
      "Epoch 22/100\n",
      "41/41 - 0s - 6ms/step - loss: 1.4487 - val_loss: 1.5275\n",
      "Epoch 23/100\n",
      "41/41 - 0s - 6ms/step - loss: 1.4710 - val_loss: 1.3514\n",
      "Epoch 24/100\n",
      "41/41 - 0s - 6ms/step - loss: 1.4479 - val_loss: 1.3369\n",
      "Epoch 25/100\n",
      "41/41 - 0s - 7ms/step - loss: 1.4451 - val_loss: 1.3970\n",
      "Epoch 26/100\n",
      "41/41 - 0s - 6ms/step - loss: 1.4390 - val_loss: 1.3496\n",
      "Epoch 27/100\n",
      "41/41 - 0s - 7ms/step - loss: 1.4049 - val_loss: 1.3337\n",
      "Epoch 28/100\n",
      "41/41 - 0s - 6ms/step - loss: 1.4324 - val_loss: 1.4362\n",
      "Epoch 29/100\n",
      "41/41 - 0s - 7ms/step - loss: 1.4677 - val_loss: 1.3581\n",
      "Epoch 30/100\n",
      "41/41 - 0s - 6ms/step - loss: 1.4259 - val_loss: 1.3425\n",
      "Epoch 31/100\n",
      "41/41 - 0s - 6ms/step - loss: 1.3683 - val_loss: 1.3353\n",
      "Epoch 32/100\n",
      "41/41 - 0s - 6ms/step - loss: 1.3864 - val_loss: 1.3612\n",
      "Epoch 33/100\n",
      "41/41 - 0s - 6ms/step - loss: 1.3732 - val_loss: 1.4151\n",
      "Epoch 34/100\n",
      "41/41 - 0s - 6ms/step - loss: 1.3802 - val_loss: 1.5396\n",
      "Epoch 35/100\n",
      "41/41 - 0s - 6ms/step - loss: 1.4076 - val_loss: 1.3490\n",
      "Epoch 36/100\n",
      "41/41 - 0s - 6ms/step - loss: 1.3711 - val_loss: 1.4135\n",
      "Epoch 37/100\n",
      "41/41 - 0s - 6ms/step - loss: 1.3965 - val_loss: 1.3562\n",
      "Epoch 38/100\n",
      "41/41 - 0s - 6ms/step - loss: 1.4035 - val_loss: 1.3765\n",
      "Epoch 39/100\n",
      "41/41 - 0s - 6ms/step - loss: 1.4082 - val_loss: 1.3500\n",
      "Epoch 40/100\n",
      "41/41 - 0s - 6ms/step - loss: 1.3985 - val_loss: 1.3496\n",
      "Epoch 41/100\n",
      "41/41 - 0s - 6ms/step - loss: 1.3833 - val_loss: 1.4012\n",
      "Epoch 42/100\n",
      "41/41 - 0s - 6ms/step - loss: 1.3484 - val_loss: 1.4351\n",
      "Epoch 43/100\n",
      "41/41 - 0s - 6ms/step - loss: 1.3928 - val_loss: 1.4424\n",
      "Epoch 44/100\n",
      "41/41 - 0s - 6ms/step - loss: 1.3798 - val_loss: 1.4222\n",
      "Epoch 45/100\n",
      "41/41 - 0s - 6ms/step - loss: 1.3591 - val_loss: 1.3209\n",
      "Epoch 46/100\n",
      "41/41 - 0s - 6ms/step - loss: 1.3559 - val_loss: 1.3641\n",
      "Epoch 47/100\n",
      "41/41 - 0s - 6ms/step - loss: 1.3396 - val_loss: 1.3416\n",
      "Epoch 48/100\n",
      "41/41 - 0s - 6ms/step - loss: 1.3321 - val_loss: 1.3506\n",
      "Epoch 49/100\n",
      "41/41 - 0s - 6ms/step - loss: 1.3658 - val_loss: 1.3716\n",
      "Epoch 50/100\n",
      "41/41 - 0s - 6ms/step - loss: 1.3662 - val_loss: 1.3871\n",
      "Epoch 51/100\n",
      "41/41 - 0s - 6ms/step - loss: 1.3408 - val_loss: 1.4413\n",
      "Epoch 52/100\n",
      "41/41 - 0s - 6ms/step - loss: 1.3743 - val_loss: 1.3627\n",
      "Epoch 53/100\n",
      "41/41 - 0s - 6ms/step - loss: 1.3304 - val_loss: 1.3030\n",
      "Epoch 54/100\n",
      "41/41 - 0s - 6ms/step - loss: 1.3602 - val_loss: 1.3245\n",
      "Epoch 55/100\n",
      "41/41 - 0s - 6ms/step - loss: 1.3268 - val_loss: 1.3636\n",
      "Epoch 56/100\n",
      "41/41 - 0s - 6ms/step - loss: 1.3596 - val_loss: 1.3238\n",
      "Epoch 57/100\n",
      "41/41 - 0s - 6ms/step - loss: 1.3811 - val_loss: 1.3225\n",
      "Epoch 58/100\n",
      "41/41 - 0s - 6ms/step - loss: 1.3678 - val_loss: 1.3350\n",
      "Epoch 59/100\n",
      "41/41 - 0s - 7ms/step - loss: 1.3476 - val_loss: 1.3233\n",
      "Epoch 60/100\n",
      "41/41 - 0s - 6ms/step - loss: 1.3931 - val_loss: 1.3991\n",
      "Epoch 61/100\n",
      "41/41 - 0s - 7ms/step - loss: 1.3218 - val_loss: 1.3645\n",
      "Epoch 62/100\n",
      "41/41 - 0s - 6ms/step - loss: 1.3402 - val_loss: 1.5077\n",
      "Epoch 63/100\n",
      "41/41 - 0s - 6ms/step - loss: 1.3171 - val_loss: 1.3921\n",
      "Epoch 64/100\n",
      "41/41 - 0s - 6ms/step - loss: 1.3359 - val_loss: 1.3873\n",
      "Epoch 65/100\n",
      "41/41 - 0s - 6ms/step - loss: 1.3656 - val_loss: 1.3623\n",
      "Epoch 66/100\n",
      "41/41 - 0s - 6ms/step - loss: 1.3403 - val_loss: 1.4793\n",
      "Epoch 67/100\n",
      "41/41 - 0s - 6ms/step - loss: 1.3405 - val_loss: 1.3250\n",
      "Epoch 68/100\n",
      "41/41 - 0s - 6ms/step - loss: 1.3241 - val_loss: 1.3813\n",
      "Epoch 69/100\n",
      "41/41 - 0s - 6ms/step - loss: 1.3266 - val_loss: 1.3353\n",
      "Epoch 70/100\n",
      "41/41 - 0s - 6ms/step - loss: 1.3108 - val_loss: 1.3520\n",
      "Epoch 71/100\n",
      "41/41 - 0s - 6ms/step - loss: 1.2849 - val_loss: 1.3979\n",
      "Epoch 72/100\n",
      "41/41 - 0s - 6ms/step - loss: 1.3330 - val_loss: 1.3421\n",
      "Epoch 73/100\n",
      "41/41 - 0s - 6ms/step - loss: 1.3056 - val_loss: 1.3622\n",
      "Epoch 74/100\n",
      "41/41 - 0s - 6ms/step - loss: 1.3490 - val_loss: 1.4083\n",
      "Epoch 75/100\n",
      "41/41 - 0s - 6ms/step - loss: 1.3258 - val_loss: 1.3601\n",
      "Epoch 76/100\n",
      "41/41 - 0s - 6ms/step - loss: 1.3089 - val_loss: 1.4094\n",
      "Epoch 77/100\n",
      "41/41 - 0s - 6ms/step - loss: 1.3269 - val_loss: 1.3890\n",
      "Epoch 78/100\n",
      "41/41 - 0s - 6ms/step - loss: 1.3194 - val_loss: 1.3845\n",
      "Epoch 79/100\n",
      "41/41 - 0s - 6ms/step - loss: 1.3405 - val_loss: 1.3972\n",
      "Epoch 80/100\n",
      "41/41 - 0s - 6ms/step - loss: 1.3325 - val_loss: 1.3361\n",
      "Epoch 81/100\n",
      "41/41 - 0s - 6ms/step - loss: 1.3319 - val_loss: 1.3564\n",
      "Epoch 82/100\n",
      "41/41 - 0s - 6ms/step - loss: 1.3075 - val_loss: 1.3874\n",
      "Epoch 83/100\n",
      "41/41 - 0s - 6ms/step - loss: 1.3115 - val_loss: 1.3825\n",
      "Epoch 84/100\n",
      "41/41 - 0s - 6ms/step - loss: 1.3262 - val_loss: 1.3930\n",
      "Epoch 85/100\n",
      "41/41 - 0s - 6ms/step - loss: 1.3618 - val_loss: 1.3815\n",
      "Epoch 86/100\n",
      "41/41 - 0s - 6ms/step - loss: 1.3307 - val_loss: 1.3885\n",
      "Epoch 87/100\n",
      "41/41 - 0s - 6ms/step - loss: 1.3296 - val_loss: 1.3932\n",
      "Epoch 88/100\n",
      "41/41 - 0s - 6ms/step - loss: 1.3460 - val_loss: 1.4041\n",
      "Epoch 89/100\n",
      "41/41 - 0s - 6ms/step - loss: 1.3114 - val_loss: 1.3813\n",
      "Epoch 90/100\n",
      "41/41 - 0s - 6ms/step - loss: 1.3342 - val_loss: 1.3119\n",
      "Epoch 91/100\n",
      "41/41 - 0s - 6ms/step - loss: 1.3328 - val_loss: 1.3699\n",
      "Epoch 92/100\n",
      "41/41 - 0s - 6ms/step - loss: 1.3121 - val_loss: 1.3915\n",
      "Epoch 93/100\n",
      "41/41 - 0s - 6ms/step - loss: 1.3169 - val_loss: 1.3440\n",
      "Epoch 94/100\n",
      "41/41 - 0s - 6ms/step - loss: 1.3063 - val_loss: 1.3543\n",
      "Epoch 95/100\n",
      "41/41 - 0s - 6ms/step - loss: 1.3340 - val_loss: 1.4100\n",
      "Epoch 96/100\n",
      "41/41 - 0s - 6ms/step - loss: 1.3182 - val_loss: 1.3989\n",
      "Epoch 97/100\n",
      "41/41 - 0s - 6ms/step - loss: 1.3233 - val_loss: 1.3729\n",
      "Epoch 98/100\n",
      "41/41 - 0s - 6ms/step - loss: 1.3316 - val_loss: 1.3179\n",
      "Epoch 99/100\n",
      "41/41 - 0s - 6ms/step - loss: 1.3358 - val_loss: 1.3314\n",
      "Epoch 100/100\n",
      "41/41 - 0s - 6ms/step - loss: 1.3332 - val_loss: 1.3877\n"
     ]
    }
   ],
   "source": [
    "# 優化器設定\n",
    "optimizer = Adam(learning_rate = 0.0005)\n",
    "# 建構模型\n",
    "model = Sequential()\n",
    "# 第1層 LSTM，指定正確的輸入形狀\n",
    "model.add(LSTM(128, activation='sigmoid',input_shape=(WINDOW_LENGTH, train_data.shape[2]), \n",
    "               return_sequences=True, dropout=0.5))\n",
    "model.add(BatchNormalization())\n",
    "# 第2層 LSTM\n",
    "model.add(LSTM(128, dropout=0.5))\n",
    "model.add(BatchNormalization())\n",
    "# 全連接層，輸出一個值\n",
    "model.add(Dense(1, activation='linear'))\n",
    "# 編譯模型\n",
    "model.compile(loss='mean_squared_error', optimizer=optimizer)\n",
    "\n",
    "# 顯示模型結構\n",
    "model.summary()\n",
    "\n",
    "# 訓練模型\n",
    "history = model.fit(train_data, test_data, validation_split=0.1,  # 5% 的驗證集\n",
    "                    batch_size = 32,  # 批次大小\n",
    "                    epochs = 100,         # 訓練次數\n",
    "                    verbose = 2,        # 顯示訓練過程\n",
    "                    shuffle = True)     # 打亂訓練資料\n"
   ]
  },
  {
   "cell_type": "code",
   "execution_count": 6,
   "metadata": {},
   "outputs": [
    {
     "data": {
      "image/png": "[encoded data removed]",
      "text/plain": [
       "<Figure size 1000x600 with 1 Axes>"
      ]
     },
     "metadata": {},
     "output_type": "display_data"
    }
   ],
   "source": [
    "# 繪製訓練與驗證的損失\n",
    "plt.figure(figsize=(10, 6))\n",
    "plt.plot(history.history['loss'], label='Training Loss', color='blue')\n",
    "plt.plot(history.history['val_loss'], label='Validation Loss', color='orange')\n",
    "plt.title('Model Loss Over Epochs', fontsize=16)\n",
    "plt.xlabel('Epochs', fontsize=14)\n",
    "plt.ylabel('Loss', fontsize=14)\n",
    "plt.legend(fontsize=12)\n",
    "plt.grid(True)\n",
    "plt.show()"
   ]
  },
  {
   "cell_type": "code",
   "execution_count": 7,
   "metadata": {},
   "outputs": [
    {
     "name": "stdout",
     "output_type": "stream",
     "text": [
      "\u001b[1m46/46\u001b[0m \u001b[32m━━━━━━━━━━━━━━━━━━━━\u001b[0m\u001b[37m\u001b[0m \u001b[1m0s\u001b[0m 5ms/step\n"
     ]
    },
    {
     "data": {
      "image/png": "[encoded data removed]",
      "text/plain": [
       "<Figure size 640x480 with 1 Axes>"
      ]
     },
     "metadata": {},
     "output_type": "display_data"
    }
   ],
   "source": [
    "predictions = model.predict(train_data)\n",
    "\n",
    "# 將預測結果轉換為數字標籤\n",
    "predicted_weather = label_encoder.inverse_transform(np.argmax(predictions, axis=1))\n",
    "\n",
    "# 將 One-Hot 編碼還原為數字標籤，然後轉為原始標籤\n",
    "actual_weather_indices = np.argmax(test_data_one_hot, axis=1)  # 還原類別索引\n",
    "actual_weather = label_encoder.inverse_transform(actual_weather_indices)\n",
    "\n",
    "# 使用散點圖顯示實際結果（藍色圓點）和預測結果（紅色圓點）\n",
    "plt.scatter(range(5), actual_weather[:5], label=\"Actual Weather\", color='b', alpha=0.6, marker='o')\n",
    "plt.scatter(range(5), predicted_weather[:5], label=\"Predicted Weather\", color='r', alpha=0.6, marker='x')\n",
    "\n",
    "# 標題和標籤\n",
    "plt.title(\"Weather Prediction Comparison (Scatter Plot)\")\n",
    "plt.xlabel(\"Time (Index)\")\n",
    "plt.ylabel(\"Weather Category\")\n",
    "plt.legend(loc='upper right')\n",
    "plt.xticks(rotation=45)\n",
    "plt.grid(True)\n",
    "plt.show()"
   ]
  }
 ],
 "metadata": {
  "accelerator": "GPU",
  "colab": {
   "gpuType": "T4",
   "provenance": []
  },
  "kernelspec": {
   "display_name": "ENV01",
   "language": "python",
   "name": "python3"
  },
  "language_info": {
   "codemirror_mode": {
    "name": "ipython",
    "version": 3
   },
   "file_extension": ".py",
   "mimetype": "text/x-python",
   "name": "python",
   "nbconvert_exporter": "python",
   "pygments_lexer": "ipython3",
   "version": "3.12.4"
  }
 },
 "nbformat": 4,
 "nbformat_minor": 0
}
